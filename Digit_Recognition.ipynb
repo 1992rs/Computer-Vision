{
  "nbformat": 4,
  "nbformat_minor": 0,
  "metadata": {
    "colab": {
      "name": "Digit_Recognition.ipynb",
      "provenance": [],
      "collapsed_sections": []
    },
    "kernelspec": {
      "name": "python3",
      "display_name": "Python 3"
    },
    "language_info": {
      "name": "python"
    },
    "accelerator": "GPU"
  },
  "cells": [
    {
      "cell_type": "code",
      "source": [
        "import os\n",
        "import time\n",
        "import math \n",
        "import pandas as pd\n",
        "import numpy as np\n",
        "import cv2\n",
        "\n",
        "# Sklearn\n",
        "from sklearn.model_selection import train_test_split\n",
        "\n",
        "\n",
        "import matplotlib.pyplot as plt\n",
        "%matplotlib inline"
      ],
      "metadata": {
        "id": "fE3IwbmMpv_s"
      },
      "execution_count": null,
      "outputs": []
    },
    {
      "cell_type": "code",
      "source": [
        "# Multiple print statments in a single cell\n",
        "from IPython.core.interactiveshell import InteractiveShell\n",
        "InteractiveShell.ast_node_interactivity = \"all\"\n",
        "\n",
        "# Adjust the Display options for number of rows and columns \n",
        "pd.set_option(\"display.max_columns\", 500)\n",
        "pd.set_option(\"display.min_rows\", 500)"
      ],
      "metadata": {
        "id": "LpfEPszgph9D"
      },
      "execution_count": null,
      "outputs": []
    },
    {
      "cell_type": "markdown",
      "source": [
        "--------------\n",
        "Implement a Denoising Autoencoder using three encoding and three decoding layers on the MNIST dataset for construction and reconstruction of the image. Use MSE as the loss function. <br>\n",
        "a. Use 1 FC layer and 2 different activation functions of your choice for 10-class classification <br>\n",
        "b. Use 3 FC layers and 2 different activation functions of your choice for 10-class classification <br>\n",
        "c. Compare the performance between 1FC and 3FC layer results and report the accuracy on test set and plot loss curves on training and test dataset"
      ],
      "metadata": {
        "id": "Mp8iMugY48l2"
      }
    },
    {
      "cell_type": "markdown",
      "source": [
        "**Loading the required libraries**"
      ],
      "metadata": {
        "id": "fFq-o0bh5BjA"
      }
    },
    {
      "cell_type": "code",
      "source": [
        "import time\n",
        "import math\n",
        "import numpy as np\n",
        "from tqdm import tqdm\n",
        "import matplotlib.pyplot as plt\n",
        "\n",
        "\n",
        "from keras.datasets import mnist\n",
        "\n",
        "import torch\n",
        "import torch.nn as nn\n",
        "import torch.optim as optim\n",
        "from torch.autograd import Variable\n",
        "from torchvision import transforms\n",
        "from torch.utils.data import DataLoader,Dataset"
      ],
      "metadata": {
        "id": "OcwkyE2i4-Sr"
      },
      "execution_count": null,
      "outputs": []
    },
    {
      "cell_type": "code",
      "source": [
        "def f_Add_Noise(Image,Type_Of_Noise = 'Gaussian'):\n",
        "    \n",
        "    \"\"\"In this function we will add noise to the images. Noise will be of two variety.\n",
        "    In half images we will add Gaussian Noise and other half we will add the Salt-Pepper noise\"\"\"\n",
        "    \n",
        "    row,col=28,28 # In MNIST data we have 28*28 images\n",
        "    image = Image.astype(np.float32)\n",
        "    \n",
        "    if Type_Of_Noise == 'Gaussian':\n",
        "        \n",
        "        mean = 0\n",
        "        variance = 1\n",
        "        std_dev = math.sqrt(variance)\n",
        "        synthetic_noise = np.random.normal(loc = mean, scale = std_dev, size = image.shape).reshape(row,col)\n",
        "        \n",
        "        image = (image + synthetic_noise)\n",
        "    \n",
        "    elif Type_Of_Noise == 'Salt_Pepper':\n",
        "        \n",
        "        synthetic_noise = np.random.randn(row,col).reshape(row,col)\n",
        "        \n",
        "        image = (image + (image * synthetic_noise))\n",
        "    \n",
        "    else :\n",
        "        print('Wrong slection for Noise Type!')\n",
        "        \n",
        "    return image"
      ],
      "metadata": {
        "id": "R8kvdJp-4-Vg"
      },
      "execution_count": null,
      "outputs": []
    },
    {
      "cell_type": "markdown",
      "source": [
        "**Let's download the MNIST dataset**"
      ],
      "metadata": {
        "id": "U42B7pOL5HdR"
      }
    },
    {
      "cell_type": "code",
      "source": [
        "(X_train,y_train),(X_test,y_test) = mnist.load_data()\n",
        "\n",
        "print(f'Train(X) || Shape || {X_train.shape}')\n",
        "print(f'Train(y) || Shape || {y_train.shape}')\n",
        "print('\\n')\n",
        "print(f'Test(X) || Shape || {X_test.shape}')\n",
        "print(f'Test(y) || Shape || {y_test.shape}')"
      ],
      "metadata": {
        "id": "Ai6NZado4-Xm",
        "colab": {
          "base_uri": "https://localhost:8080/"
        },
        "outputId": "32aa8446-97e1-453a-a65b-0321c183d674"
      },
      "execution_count": null,
      "outputs": [
        {
          "output_type": "stream",
          "name": "stdout",
          "text": [
            "Downloading data from https://storage.googleapis.com/tensorflow/tf-keras-datasets/mnist.npz\n",
            "11493376/11490434 [==============================] - 0s 0us/step\n",
            "11501568/11490434 [==============================] - 0s 0us/step\n",
            "Train(X) || Shape || (60000, 28, 28)\n",
            "Train(y) || Shape || (60000,)\n",
            "\n",
            "\n",
            "Test(X) || Shape || (10000, 28, 28)\n",
            "Test(y) || Shape || (10000,)\n"
          ]
        }
      ]
    },
    {
      "cell_type": "markdown",
      "source": [
        "**Adding noise to the training data set**"
      ],
      "metadata": {
        "id": "d67czAow5M0m"
      }
    },
    {
      "cell_type": "code",
      "source": [
        "%%time\n",
        "\n",
        "# We will add Gaussian noise to half of the images in the training data and salt-pepper noise in the other half\n",
        "\n",
        "Allowed_Noise_Types = ['Gaussian','Salt_Pepper']\n",
        "Allowed_Noise_ID = 0\n",
        "Counter = 0\n",
        "df_train = np.zeros(X_train.shape)\n",
        "\n",
        "\n",
        "for row_index in tqdm(range(len(X_train))):\n",
        "    \n",
        "    if Counter < round(len(X_train)/2):\n",
        "        df_train[row_index] = f_Add_Noise(Image = X_train[row_index],Type_Of_Noise = Allowed_Noise_Types[Allowed_Noise_ID])\n",
        "        Counter += 1\n",
        "    else:\n",
        "        Allowed_Noise_ID += 1\n",
        "        Counter = 0\n"
      ],
      "metadata": {
        "id": "Dx98Yl-04-Z9",
        "colab": {
          "base_uri": "https://localhost:8080/"
        },
        "outputId": "2f512fbb-82d0-41f7-afca-b1f4b77607f5"
      },
      "execution_count": null,
      "outputs": [
        {
          "output_type": "stream",
          "name": "stderr",
          "text": [
            "100%|██████████| 60000/60000 [00:03<00:00, 17122.84it/s]"
          ]
        },
        {
          "output_type": "stream",
          "name": "stdout",
          "text": [
            "CPU times: user 2.9 s, sys: 173 ms, total: 3.08 s\n",
            "Wall time: 3.91 s\n"
          ]
        },
        {
          "output_type": "stream",
          "name": "stderr",
          "text": [
            "\n"
          ]
        }
      ]
    },
    {
      "cell_type": "markdown",
      "source": [
        "**Adding noise to the test data set**"
      ],
      "metadata": {
        "id": "MUQw3iCdR1uo"
      }
    },
    {
      "cell_type": "code",
      "source": [
        "%%time\n",
        "\n",
        "# We will add Gaussian noise to half of the images in the test data and salt-pepper noise in the other half\n",
        "\n",
        "Allowed_Noise_Types = ['Gaussian','Salt_Pepper']\n",
        "Allowed_Noise_ID = 0\n",
        "Counter = 0\n",
        "df_test = np.zeros(X_test.shape)\n",
        "\n",
        "\n",
        "for row_index in tqdm(range(len(X_test))):\n",
        "    \n",
        "    if Counter < round(len(X_test)/2):\n",
        "        df_test[row_index] = f_Add_Noise(Image = X_test[row_index],Type_Of_Noise = Allowed_Noise_Types[Allowed_Noise_ID])\n",
        "        Counter += 1\n",
        "    else:\n",
        "        Allowed_Noise_ID += 1\n",
        "        Counter = 0\n"
      ],
      "metadata": {
        "id": "DlWuf-j74-c2",
        "colab": {
          "base_uri": "https://localhost:8080/"
        },
        "outputId": "babd41ea-5831-43fc-bd7a-dd24631efa47"
      },
      "execution_count": null,
      "outputs": [
        {
          "output_type": "stream",
          "name": "stderr",
          "text": [
            "100%|██████████| 10000/10000 [00:00<00:00, 23445.72it/s]"
          ]
        },
        {
          "output_type": "stream",
          "name": "stdout",
          "text": [
            "CPU times: user 438 ms, sys: 21.9 ms, total: 460 ms\n",
            "Wall time: 464 ms\n"
          ]
        },
        {
          "output_type": "stream",
          "name": "stderr",
          "text": [
            "\n"
          ]
        }
      ]
    },
    {
      "cell_type": "markdown",
      "source": [
        "**Let's visualize some sample of images in their original form and after we have added noise to them**"
      ],
      "metadata": {
        "id": "xD9x3gTlR7_c"
      }
    },
    {
      "cell_type": "code",
      "source": [
        "image_idx = np.random.randint(0,round((len(X_train)/2)-1),size = 2)\n",
        "# noisy_image_idx = np.random.randint(round((len(X_train)/2)+1),len(X_train),size = 2)\n",
        "\n",
        "\n",
        "fig, axes=plt.subplots(2,2,figsize=(8, 8))\n",
        "fig.tight_layout()\n",
        "\n",
        "# Visualize images where we have added Gaussian Noise\n",
        "axes[0,0].imshow(X_train[image_idx[0]],cmap=\"gray\")\n",
        "axes[0,0].set_title(\"Original Image\",color=\"Blue\")\n",
        "axes[1,0].imshow(df_train[image_idx[0]],cmap='gray')\n",
        "axes[1,0].set_title(\"Noisy Image | Gaussian Noise\",color=\"magenta\")\n",
        "\n",
        "# Visualize images where we have added Salt_Pepper Noise\n",
        "axes[0,1].imshow(X_train[image_idx[1]],cmap='gray')\n",
        "axes[0,1].set_title(\"Original Image\",color=\"Blue\")\n",
        "axes[1,1].imshow(df_train[image_idx[1]],cmap=\"gray\")\n",
        "axes[1,1].set_title(\"Noisy Image | Salt-Pepper Noise\",color=\"magenta\");"
      ],
      "metadata": {
        "id": "f2gWMM8w4-e7",
        "colab": {
          "base_uri": "https://localhost:8080/",
          "height": 587
        },
        "outputId": "40f3f300-d434-4fa8-d6c8-a228863132a0"
      },
      "execution_count": null,
      "outputs": [
        {
          "output_type": "display_data",
          "data": {
            "text/plain": [
              "<Figure size 576x576 with 4 Axes>"
            ],
            "image/png": "[encoded data removed]"
          },
          "metadata": {
            "needs_background": "light"
          }
        }
      ]
    },
    {
      "cell_type": "code",
      "source": [
        "class f_Noisy_Dataset(Dataset):\n",
        "    \n",
        "    def __init__(self,DF_Noisy,DF_Clean,Labels,Transformation):\n",
        "        self.noise = DF_Noisy\n",
        "        self.clean = DF_Clean\n",
        "        self.labels = Labels\n",
        "        self.transform = Transformation\n",
        "    \n",
        "    def __len__(self):\n",
        "        return len(self.noise)\n",
        "    \n",
        "    def __getitem__(self,idx):\n",
        "        \n",
        "        x_noise = self.noise[idx]\n",
        "        x_clean = self.clean[idx]\n",
        "        y = self.labels[idx]\n",
        "        \n",
        "        if self.transform != None:\n",
        "            x_noise = self.transform(x_noise)\n",
        "            x_clean = self.transform(x_clean)\n",
        "        \n",
        "        return (x_noise,x_clean,y)"
      ],
      "metadata": {
        "id": "AQ2LUGr14-g2"
      },
      "execution_count": null,
      "outputs": []
    },
    {
      "cell_type": "code",
      "source": [
        "# Pytorch requires the data to be in tensor form. Thus, we will transform our data into tensors.\n",
        "# We are also normalizing the data \n",
        "transformation_layer = transforms.Compose([transforms.ToTensor(),\n",
        "                                           #transforms.Normalize((0.5,), (0.5,))\n",
        "                                          ])"
      ],
      "metadata": {
        "id": "lvOQRwO94-jR"
      },
      "execution_count": null,
      "outputs": []
    },
    {
      "cell_type": "code",
      "source": [
        "trainset = f_Noisy_Dataset(df_train,X_train,y_train,transformation_layer)"
      ],
      "metadata": {
        "id": "ujVMHSbC4-me"
      },
      "execution_count": null,
      "outputs": []
    },
    {
      "cell_type": "code",
      "source": [
        "testset = f_Noisy_Dataset(df_test,X_test,y_test,transformation_layer)"
      ],
      "metadata": {
        "id": "CBo9e25u4-o0"
      },
      "execution_count": null,
      "outputs": []
    },
    {
      "cell_type": "code",
      "source": [
        "Batch_Size = 32\n",
        "Learning_Rate = 0.001"
      ],
      "metadata": {
        "id": "C3QB6KBf4-rf"
      },
      "execution_count": null,
      "outputs": []
    },
    {
      "cell_type": "code",
      "source": [
        "trainloader = DataLoader(trainset,batch_size=Batch_Size,shuffle=True)\n",
        "testloader = DataLoader(testset,batch_size=Batch_Size,shuffle=True)"
      ],
      "metadata": {
        "id": "Epf6clT74-tp"
      },
      "execution_count": null,
      "outputs": []
    },
    {
      "cell_type": "code",
      "source": [
        "# Autoencoder model with 3 encoder and 3 decoder layers\n",
        "\n",
        "class Denoising_Autoencoder_3_3(nn.Module):\n",
        "    \n",
        "    def __init__(self):\n",
        "        \n",
        "        super(Denoising_Autoencoder_3_3,self).__init__()\n",
        "        \n",
        "        self.encoder = nn.Sequential(nn.Linear(28*28,256),\n",
        "                                     nn.ReLU(True),\n",
        "                                     nn.Linear(256,128),\n",
        "                                     nn.ReLU(True),\n",
        "                                     nn.Linear(128,64),\n",
        "                                     nn.ReLU(True))\n",
        "        \n",
        "        self.decoder = nn.Sequential(nn.Linear(64,128),\n",
        "                                     nn.ReLU(True),\n",
        "                                     nn.Linear(128,256),\n",
        "                                     nn.ReLU(True),\n",
        "                                     nn.Linear(256,28*28),\n",
        "                                     nn.Sigmoid(),)\n",
        "    \n",
        "    def forward(self,x):\n",
        "        \n",
        "        x = self.encoder(x)\n",
        "        x = self.decoder(x)\n",
        "    \n",
        "        return x\n",
        "  "
      ],
      "metadata": {
        "id": "7Bo39XpC4-wY"
      },
      "execution_count": null,
      "outputs": []
    },
    {
      "cell_type": "code",
      "source": [
        "# 1 FC Layer with Relu activation function\n",
        "\n",
        "class Denoising_Autoencoder_1_Relu(nn.Module):\n",
        "    \n",
        "    def __init__(self):\n",
        "        \n",
        "        super(Denoising_Autoencoder_1_Relu,self).__init__()\n",
        "        \n",
        "        self.encoder = nn.Sequential(nn.Linear(28*28,256),\n",
        "                                     nn.ReLU(True))\n",
        "        \n",
        "        self.decoder = nn.Sequential(nn.Linear(256,28*28),\n",
        "                                     nn.ReLU())\n",
        "    \n",
        "    def forward(self,x):\n",
        "        \n",
        "        x = self.encoder(x)\n",
        "        x = self.decoder(x)\n",
        "    \n",
        "        return x\n",
        "  "
      ],
      "metadata": {
        "id": "qM75EQSU4-yU"
      },
      "execution_count": null,
      "outputs": []
    },
    {
      "cell_type": "code",
      "source": [
        "# 1 FC Layer with Sigmoid activation functions\n",
        "\n",
        "class Denoising_Autoencoder_1_Sigmoid(nn.Module):\n",
        "    \n",
        "    def __init__(self):\n",
        "        \n",
        "        super(Denoising_Autoencoder_1_Sigmoid,self).__init__()\n",
        "        \n",
        "        self.encoder = nn.Sequential(nn.Linear(28*28,256),\n",
        "                                     nn.Sigmoid())\n",
        "        \n",
        "        self.decoder = nn.Sequential(nn.Linear(256,28*28),\n",
        "                                     nn.Sigmoid())\n",
        "    \n",
        "    def forward(self,x):\n",
        "        \n",
        "        x = self.encoder(x)\n",
        "        x = self.decoder(x)\n",
        "    \n",
        "        return x\n",
        "  "
      ],
      "metadata": {
        "id": "v50SOaXh4-06"
      },
      "execution_count": null,
      "outputs": []
    },
    {
      "cell_type": "code",
      "source": [
        "# 3 FC Layer and Relu activation functions\n",
        "\n",
        "class Denoising_Autoencoder_3_Relu(nn.Module):\n",
        "    \n",
        "    def __init__(self):\n",
        "        \n",
        "        super(Denoising_Autoencoder_3_Relu,self).__init__()\n",
        "        \n",
        "        self.encoder = nn.Sequential(nn.Linear(28*28,256),\n",
        "                                     nn.ReLU(True),\n",
        "                                     nn.Linear(256,128),\n",
        "                                     nn.ReLU(True),\n",
        "                                     nn.Linear(128,64),\n",
        "                                     nn.ReLU(True))\n",
        "        \n",
        "        self.decoder = nn.Sequential(nn.Linear(64,128),\n",
        "                                     nn.ReLU(True),\n",
        "                                     nn.Linear(128,256),\n",
        "                                     nn.ReLU(True),\n",
        "                                     nn.Linear(256,28*28),\n",
        "                                     nn.Sigmoid(),)\n",
        "    \n",
        "    def forward(self,x):\n",
        "        \n",
        "        x = self.encoder(x)\n",
        "        x = self.decoder(x)\n",
        "    \n",
        "        return x\n",
        "  \n",
        "  "
      ],
      "metadata": {
        "id": "j179_atHSKDY"
      },
      "execution_count": null,
      "outputs": []
    },
    {
      "cell_type": "code",
      "source": [
        "# 3 FC Layer and Sigmoid activation functions\n",
        "\n",
        "class Denoising_Autoencoder_3_Sigmoid(nn.Module):\n",
        "    \n",
        "    def __init__(self):\n",
        "        \n",
        "        super(Denoising_Autoencoder_3_Sigmoid,self).__init__()\n",
        "        \n",
        "        self.encoder = nn.Sequential(nn.Linear(28*28,256),\n",
        "                                     nn.Sigmoid(),\n",
        "                                     nn.Linear(256,128),\n",
        "                                     nn.Sigmoid(),\n",
        "                                     nn.Linear(128,64),\n",
        "                                     nn.Sigmoid())\n",
        "        \n",
        "        self.decoder = nn.Sequential(nn.Linear(64,128),\n",
        "                                     nn.Sigmoid(),\n",
        "                                     nn.Linear(128,256),\n",
        "                                     nn.Sigmoid(),\n",
        "                                     nn.Linear(256,28*28),\n",
        "                                     nn.Sigmoid(),)\n",
        "    \n",
        "    def forward(self,x):\n",
        "        \n",
        "        x = self.encoder(x)\n",
        "        x = self.decoder(x)\n",
        "    \n",
        "        return x\n",
        "  \n",
        "  "
      ],
      "metadata": {
        "id": "6I48pc6LSKGI"
      },
      "execution_count": null,
      "outputs": []
    },
    {
      "cell_type": "markdown",
      "source": [
        "**Specify the model by un-commenting it**"
      ],
      "metadata": {
        "id": "MLk1ie1rSTsC"
      }
    },
    {
      "cell_type": "code",
      "source": [
        "# DAE_Model = Denoising_Autoencoder_3_3()"
      ],
      "metadata": {
        "id": "Z65d6vtZSKJz"
      },
      "execution_count": null,
      "outputs": []
    },
    {
      "cell_type": "code",
      "source": [
        "# DAE_Model = Denoising_Autoencoder_1_Relu()"
      ],
      "metadata": {
        "id": "77fTa3nMSKMS"
      },
      "execution_count": null,
      "outputs": []
    },
    {
      "cell_type": "code",
      "source": [
        "# DAE_Model = Denoising_Autoencoder_1_Sigmoid()"
      ],
      "metadata": {
        "id": "-GycANgVSKOP"
      },
      "execution_count": null,
      "outputs": []
    },
    {
      "cell_type": "code",
      "source": [
        "# DAE_Model = Denoising_Autoencoder_3_Relu()"
      ],
      "metadata": {
        "id": "bRX_7dgkSKQo"
      },
      "execution_count": null,
      "outputs": []
    },
    {
      "cell_type": "code",
      "source": [
        "DAE_Model = Denoising_Autoencoder_3_Sigmoid()"
      ],
      "metadata": {
        "id": "Aj57PF2oSKSz"
      },
      "execution_count": null,
      "outputs": []
    },
    {
      "cell_type": "code",
      "source": [
        ""
      ],
      "metadata": {
        "id": "vO_12iEYSKVM"
      },
      "execution_count": null,
      "outputs": []
    },
    {
      "cell_type": "code",
      "source": [
        "criterion = nn.MSELoss()\n",
        "#optimizer = optim.SGD(DAE_Model.parameters(),lr=0.01,weight_decay=1e-5)\n",
        "optimizer = torch.optim.Adam(params = DAE_Model.parameters(),\n",
        "                             lr = Learning_Rate,\n",
        "                             weight_decay = 1e-5)"
      ],
      "metadata": {
        "id": "nzgX3RfkSKXa"
      },
      "execution_count": null,
      "outputs": []
    },
    {
      "cell_type": "code",
      "source": [
        "DAE_Model.parameters"
      ],
      "metadata": {
        "id": "OJjrjdgESKZ8",
        "colab": {
          "base_uri": "https://localhost:8080/"
        },
        "outputId": "86e23443-31f3-4c2a-ae5e-6684ad00d5dc"
      },
      "execution_count": null,
      "outputs": [
        {
          "output_type": "execute_result",
          "data": {
            "text/plain": [
              "<bound method Module.parameters of Denoising_Autoencoder_3_Sigmoid(\n",
              "  (encoder): Sequential(\n",
              "    (0): Linear(in_features=784, out_features=256, bias=True)\n",
              "    (1): Sigmoid()\n",
              "    (2): Linear(in_features=256, out_features=128, bias=True)\n",
              "    (3): Sigmoid()\n",
              "    (4): Linear(in_features=128, out_features=64, bias=True)\n",
              "    (5): Sigmoid()\n",
              "  )\n",
              "  (decoder): Sequential(\n",
              "    (0): Linear(in_features=64, out_features=128, bias=True)\n",
              "    (1): Sigmoid()\n",
              "    (2): Linear(in_features=128, out_features=256, bias=True)\n",
              "    (3): Sigmoid()\n",
              "    (4): Linear(in_features=256, out_features=784, bias=True)\n",
              "    (5): Sigmoid()\n",
              "  )\n",
              ")>"
            ]
          },
          "metadata": {},
          "execution_count": 26
        }
      ]
    },
    {
      "cell_type": "code",
      "source": [
        "!pip install torchinfo"
      ],
      "metadata": {
        "colab": {
          "base_uri": "https://localhost:8080/"
        },
        "id": "yD6VpJki3AYI",
        "outputId": "bbde0c3a-33bf-41e1-91ea-bd20176f442b"
      },
      "execution_count": null,
      "outputs": [
        {
          "output_type": "stream",
          "name": "stdout",
          "text": [
            "Looking in indexes: https://pypi.org/simple, https://us-python.pkg.dev/colab-wheels/public/simple/\n",
            "Collecting torchinfo\n",
            "  Downloading torchinfo-1.7.0-py3-none-any.whl (22 kB)\n",
            "Installing collected packages: torchinfo\n",
            "Successfully installed torchinfo-1.7.0\n"
          ]
        }
      ]
    },
    {
      "cell_type": "code",
      "source": [
        "from torchinfo import summary\n",
        "\n",
        "summary(DAE_Model)"
      ],
      "metadata": {
        "id": "kaP_H0eLSKcU",
        "colab": {
          "base_uri": "https://localhost:8080/"
        },
        "outputId": "f303597e-3051-4027-c0f7-5649add0dddc"
      },
      "execution_count": null,
      "outputs": [
        {
          "output_type": "execute_result",
          "data": {
            "text/plain": [
              "=================================================================\n",
              "Layer (type:depth-idx)                   Param #\n",
              "=================================================================\n",
              "Denoising_Autoencoder_3_Sigmoid          --\n",
              "├─Sequential: 1-1                        --\n",
              "│    └─Linear: 2-1                       200,960\n",
              "│    └─Sigmoid: 2-2                      --\n",
              "│    └─Linear: 2-3                       32,896\n",
              "│    └─Sigmoid: 2-4                      --\n",
              "│    └─Linear: 2-5                       8,256\n",
              "│    └─Sigmoid: 2-6                      --\n",
              "├─Sequential: 1-2                        --\n",
              "│    └─Linear: 2-7                       8,320\n",
              "│    └─Sigmoid: 2-8                      --\n",
              "│    └─Linear: 2-9                       33,024\n",
              "│    └─Sigmoid: 2-10                     --\n",
              "│    └─Linear: 2-11                      201,488\n",
              "│    └─Sigmoid: 2-12                     --\n",
              "=================================================================\n",
              "Total params: 484,944\n",
              "Trainable params: 484,944\n",
              "Non-trainable params: 0\n",
              "================================================================="
            ]
          },
          "metadata": {},
          "execution_count": 29
        }
      ]
    },
    {
      "cell_type": "code",
      "source": [
        "Num_Epochs = 25\n",
        "\n",
        "size = len(trainloader)\n",
        "Loss_List = list()\n",
        "Epoch_Loss = 0\n",
        "Running_Loss = 0"
      ],
      "metadata": {
        "id": "YqQd0lI4SKeZ"
      },
      "execution_count": null,
      "outputs": []
    },
    {
      "cell_type": "code",
      "source": [
        "for epoch in range(Num_Epochs):\n",
        "    \n",
        "    print(f'Epoch: {epoch}')\n",
        "    \n",
        "    for noisy,original,label in tqdm((trainloader)):\n",
        "        \n",
        "        noisy = noisy.view(noisy.size(0),-1).type(torch.FloatTensor)\n",
        "        original = original.view(original.size(0),-1).type(torch.FloatTensor)\n",
        "        #noisy,original = noisy.to(device),original.to(device)\n",
        "        \n",
        "        #-------------\n",
        "        # Forward Pass\n",
        "        #-------------\n",
        "        \n",
        "        output = DAE_Model(noisy)\n",
        "        loss = criterion(output,original)\n",
        "        \n",
        "        #---------------\n",
        "        # Backward Pass\n",
        "        #---------------\n",
        "        \n",
        "        optimizer.zero_grad()\n",
        "        loss.backward()\n",
        "        optimizer.step()\n",
        "        \n",
        "        Running_Loss += loss.item()\n",
        "        Epoch_Loss += loss.item()\n",
        "        \n",
        "    #-----------------Log-------------------------------\n",
        "    Loss_List.append(Running_Loss/size)\n",
        "    Running_Loss=0\n",
        "    print(f'Epoch : {epoch}/{Num_Epochs} || Loss : {loss.item()} ')"
      ],
      "metadata": {
        "id": "wXZMnf3KSKg2",
        "colab": {
          "base_uri": "https://localhost:8080/"
        },
        "outputId": "bfcda69a-8aec-4d12-9479-fc838ad7c19c"
      },
      "execution_count": null,
      "outputs": [
        {
          "output_type": "stream",
          "name": "stdout",
          "text": [
            "Epoch: 0\n"
          ]
        },
        {
          "output_type": "stream",
          "name": "stderr",
          "text": [
            "100%|██████████| 1875/1875 [00:23<00:00, 79.21it/s]\n"
          ]
        },
        {
          "output_type": "stream",
          "name": "stdout",
          "text": [
            "Epoch : 0/25 || Loss : 0.06107838451862335 \n",
            "Epoch: 1\n"
          ]
        },
        {
          "output_type": "stream",
          "name": "stderr",
          "text": [
            "100%|██████████| 1875/1875 [00:16<00:00, 112.71it/s]\n"
          ]
        },
        {
          "output_type": "stream",
          "name": "stdout",
          "text": [
            "Epoch : 1/25 || Loss : 0.059006281197071075 \n",
            "Epoch: 2\n"
          ]
        },
        {
          "output_type": "stream",
          "name": "stderr",
          "text": [
            "100%|██████████| 1875/1875 [00:14<00:00, 131.98it/s]\n"
          ]
        },
        {
          "output_type": "stream",
          "name": "stdout",
          "text": [
            "Epoch : 2/25 || Loss : 0.045665591955184937 \n",
            "Epoch: 3\n"
          ]
        },
        {
          "output_type": "stream",
          "name": "stderr",
          "text": [
            "100%|██████████| 1875/1875 [00:13<00:00, 135.39it/s]\n"
          ]
        },
        {
          "output_type": "stream",
          "name": "stdout",
          "text": [
            "Epoch : 3/25 || Loss : 0.04990819841623306 \n",
            "Epoch: 4\n"
          ]
        },
        {
          "output_type": "stream",
          "name": "stderr",
          "text": [
            "100%|██████████| 1875/1875 [00:13<00:00, 136.43it/s]\n"
          ]
        },
        {
          "output_type": "stream",
          "name": "stdout",
          "text": [
            "Epoch : 4/25 || Loss : 0.046855587512254715 \n",
            "Epoch: 5\n"
          ]
        },
        {
          "output_type": "stream",
          "name": "stderr",
          "text": [
            "100%|██████████| 1875/1875 [00:13<00:00, 135.05it/s]\n"
          ]
        },
        {
          "output_type": "stream",
          "name": "stdout",
          "text": [
            "Epoch : 5/25 || Loss : 0.04901736602187157 \n",
            "Epoch: 6\n"
          ]
        },
        {
          "output_type": "stream",
          "name": "stderr",
          "text": [
            "100%|██████████| 1875/1875 [00:13<00:00, 135.99it/s]\n"
          ]
        },
        {
          "output_type": "stream",
          "name": "stdout",
          "text": [
            "Epoch : 6/25 || Loss : 0.04556320235133171 \n",
            "Epoch: 7\n"
          ]
        },
        {
          "output_type": "stream",
          "name": "stderr",
          "text": [
            "100%|██████████| 1875/1875 [00:13<00:00, 134.32it/s]\n"
          ]
        },
        {
          "output_type": "stream",
          "name": "stdout",
          "text": [
            "Epoch : 7/25 || Loss : 0.04269271343946457 \n",
            "Epoch: 8\n"
          ]
        },
        {
          "output_type": "stream",
          "name": "stderr",
          "text": [
            "100%|██████████| 1875/1875 [00:14<00:00, 129.94it/s]\n"
          ]
        },
        {
          "output_type": "stream",
          "name": "stdout",
          "text": [
            "Epoch : 8/25 || Loss : 0.045217566192150116 \n",
            "Epoch: 9\n"
          ]
        },
        {
          "output_type": "stream",
          "name": "stderr",
          "text": [
            "100%|██████████| 1875/1875 [00:13<00:00, 136.20it/s]\n"
          ]
        },
        {
          "output_type": "stream",
          "name": "stdout",
          "text": [
            "Epoch : 9/25 || Loss : 0.04256027191877365 \n",
            "Epoch: 10\n"
          ]
        },
        {
          "output_type": "stream",
          "name": "stderr",
          "text": [
            "100%|██████████| 1875/1875 [00:13<00:00, 141.75it/s]\n"
          ]
        },
        {
          "output_type": "stream",
          "name": "stdout",
          "text": [
            "Epoch : 10/25 || Loss : 0.04091893509030342 \n",
            "Epoch: 11\n"
          ]
        },
        {
          "output_type": "stream",
          "name": "stderr",
          "text": [
            "100%|██████████| 1875/1875 [00:13<00:00, 141.34it/s]\n"
          ]
        },
        {
          "output_type": "stream",
          "name": "stdout",
          "text": [
            "Epoch : 11/25 || Loss : 0.04118088632822037 \n",
            "Epoch: 12\n"
          ]
        },
        {
          "output_type": "stream",
          "name": "stderr",
          "text": [
            "100%|██████████| 1875/1875 [00:13<00:00, 139.76it/s]\n"
          ]
        },
        {
          "output_type": "stream",
          "name": "stdout",
          "text": [
            "Epoch : 12/25 || Loss : 0.04108403995633125 \n",
            "Epoch: 13\n"
          ]
        },
        {
          "output_type": "stream",
          "name": "stderr",
          "text": [
            "100%|██████████| 1875/1875 [00:13<00:00, 137.93it/s]\n"
          ]
        },
        {
          "output_type": "stream",
          "name": "stdout",
          "text": [
            "Epoch : 13/25 || Loss : 0.04259438440203667 \n",
            "Epoch: 14\n"
          ]
        },
        {
          "output_type": "stream",
          "name": "stderr",
          "text": [
            "100%|██████████| 1875/1875 [00:13<00:00, 141.15it/s]\n"
          ]
        },
        {
          "output_type": "stream",
          "name": "stdout",
          "text": [
            "Epoch : 14/25 || Loss : 0.03858104348182678 \n",
            "Epoch: 15\n"
          ]
        },
        {
          "output_type": "stream",
          "name": "stderr",
          "text": [
            "100%|██████████| 1875/1875 [00:13<00:00, 138.56it/s]\n"
          ]
        },
        {
          "output_type": "stream",
          "name": "stdout",
          "text": [
            "Epoch : 15/25 || Loss : 0.037380967289209366 \n",
            "Epoch: 16\n"
          ]
        },
        {
          "output_type": "stream",
          "name": "stderr",
          "text": [
            "100%|██████████| 1875/1875 [00:13<00:00, 138.89it/s]\n"
          ]
        },
        {
          "output_type": "stream",
          "name": "stdout",
          "text": [
            "Epoch : 16/25 || Loss : 0.04045109078288078 \n",
            "Epoch: 17\n"
          ]
        },
        {
          "output_type": "stream",
          "name": "stderr",
          "text": [
            "100%|██████████| 1875/1875 [00:14<00:00, 132.32it/s]\n"
          ]
        },
        {
          "output_type": "stream",
          "name": "stdout",
          "text": [
            "Epoch : 17/25 || Loss : 0.04095170274376869 \n",
            "Epoch: 18\n"
          ]
        },
        {
          "output_type": "stream",
          "name": "stderr",
          "text": [
            "100%|██████████| 1875/1875 [00:14<00:00, 128.59it/s]\n"
          ]
        },
        {
          "output_type": "stream",
          "name": "stdout",
          "text": [
            "Epoch : 18/25 || Loss : 0.03561883047223091 \n",
            "Epoch: 19\n"
          ]
        },
        {
          "output_type": "stream",
          "name": "stderr",
          "text": [
            "100%|██████████| 1875/1875 [00:13<00:00, 137.57it/s]\n"
          ]
        },
        {
          "output_type": "stream",
          "name": "stdout",
          "text": [
            "Epoch : 19/25 || Loss : 0.03878268599510193 \n",
            "Epoch: 20\n"
          ]
        },
        {
          "output_type": "stream",
          "name": "stderr",
          "text": [
            "100%|██████████| 1875/1875 [00:13<00:00, 138.90it/s]\n"
          ]
        },
        {
          "output_type": "stream",
          "name": "stdout",
          "text": [
            "Epoch : 20/25 || Loss : 0.035662829875946045 \n",
            "Epoch: 21\n"
          ]
        },
        {
          "output_type": "stream",
          "name": "stderr",
          "text": [
            "100%|██████████| 1875/1875 [00:13<00:00, 138.10it/s]\n"
          ]
        },
        {
          "output_type": "stream",
          "name": "stdout",
          "text": [
            "Epoch : 21/25 || Loss : 0.035432640463113785 \n",
            "Epoch: 22\n"
          ]
        },
        {
          "output_type": "stream",
          "name": "stderr",
          "text": [
            "100%|██████████| 1875/1875 [00:13<00:00, 138.33it/s]\n"
          ]
        },
        {
          "output_type": "stream",
          "name": "stdout",
          "text": [
            "Epoch : 22/25 || Loss : 0.039964158087968826 \n",
            "Epoch: 23\n"
          ]
        },
        {
          "output_type": "stream",
          "name": "stderr",
          "text": [
            "100%|██████████| 1875/1875 [00:13<00:00, 138.75it/s]\n"
          ]
        },
        {
          "output_type": "stream",
          "name": "stdout",
          "text": [
            "Epoch : 23/25 || Loss : 0.03751695156097412 \n",
            "Epoch: 24\n"
          ]
        },
        {
          "output_type": "stream",
          "name": "stderr",
          "text": [
            "100%|██████████| 1875/1875 [00:13<00:00, 138.93it/s]"
          ]
        },
        {
          "output_type": "stream",
          "name": "stdout",
          "text": [
            "Epoch : 24/25 || Loss : 0.04298705607652664 \n"
          ]
        },
        {
          "output_type": "stream",
          "name": "stderr",
          "text": [
            "\n"
          ]
        }
      ]
    },
    {
      "cell_type": "code",
      "source": [
        "Loss_List"
      ],
      "metadata": {
        "id": "5R_M3Q6USKjB",
        "colab": {
          "base_uri": "https://localhost:8080/"
        },
        "outputId": "135c47d5-f41b-4b0a-8323-6ad83d2f7fc3"
      },
      "execution_count": null,
      "outputs": [
        {
          "output_type": "execute_result",
          "data": {
            "text/plain": [
              "[0.06247741556167603,\n",
              " 0.05907336628039678,\n",
              " 0.05503737176060677,\n",
              " 0.05259791781703631,\n",
              " 0.05132460253238678,\n",
              " 0.05074910262425741,\n",
              " 0.05026782944003741,\n",
              " 0.048348184732596076,\n",
              " 0.04600996192296346,\n",
              " 0.04522026614745458,\n",
              " 0.04366600165764491,\n",
              " 0.04266497615973155,\n",
              " 0.04205268204013506,\n",
              " 0.04138173732558886,\n",
              " 0.04061224405368169,\n",
              " 0.0401526851306359,\n",
              " 0.03986414938370387,\n",
              " 0.0395546448469162,\n",
              " 0.03912324425081412,\n",
              " 0.03867268392642339,\n",
              " 0.038344208697477976,\n",
              " 0.03818614280621211,\n",
              " 0.03811052007277806,\n",
              " 0.038036128717660905,\n",
              " 0.03791924812495708]"
            ]
          },
          "metadata": {},
          "execution_count": 32
        }
      ]
    },
    {
      "cell_type": "code",
      "source": [
        "plt.plot(range(len(Loss_List)),Loss_List);\n",
        "plt.xlabel('Epochs')\n",
        "plt.ylabel('Loss')\n",
        "plt.title('Training Loss vs Epochs')\n",
        "plt.show();"
      ],
      "metadata": {
        "id": "XB2j5epaSKlf",
        "colab": {
          "base_uri": "https://localhost:8080/",
          "height": 295
        },
        "outputId": "5dfcbf3c-2c34-4582-8ef4-a3cc7360bf14"
      },
      "execution_count": null,
      "outputs": [
        {
          "output_type": "display_data",
          "data": {
            "text/plain": [
              "<Figure size 432x288 with 1 Axes>"
            ],
            "image/png": "[encoded data removed]"
          },
          "metadata": {
            "needs_background": "light"
          }
        }
      ]
    },
    {
      "cell_type": "markdown",
      "source": [
        "**Visualize a sample of results**"
      ],
      "metadata": {
        "id": "8MXZc8PaSuIo"
      }
    },
    {
      "cell_type": "code",
      "source": [
        "f,axes= plt.subplots(6,3,figsize=(20,20))\n",
        "axes[0,0].set_title(\"Original Image\")\n",
        "axes[0,1].set_title(\"Noisy Image\")\n",
        "axes[0,2].set_title(\"Cleaned Image\")\n",
        "\n",
        "test_imgs=np.random.randint(0,10000,size=6)\n",
        "for idx in range((6)):\n",
        "  dirty=testset[test_imgs[idx]][0]\n",
        "  clean=testset[test_imgs[idx]][1]\n",
        "  label=testset[test_imgs[idx]][2]\n",
        "  dirty=dirty.view(dirty.size(0),-1).type(torch.FloatTensor)\n",
        "  #dirty=dirty.to(device)\n",
        "  output=DAE_Model(dirty)\n",
        "  \n",
        "  output=output.view(1,28,28)\n",
        "  output=output.permute(1,2,0).squeeze(2)\n",
        "  output=output.detach().cpu().numpy()\n",
        "  \n",
        "  dirty=dirty.view(1,28,28)\n",
        "  dirty=dirty.permute(1,2,0).squeeze(2)\n",
        "  dirty=dirty.detach().cpu().numpy()\n",
        "  \n",
        "  clean=clean.permute(1,2,0).squeeze(2)\n",
        "  clean=clean.detach().cpu().numpy()\n",
        "  \n",
        "  axes[idx,0].imshow(clean,cmap=\"gray\")\n",
        "  axes[idx,1].imshow(dirty,cmap=\"gray\")\n",
        "  axes[idx,2].imshow(output,cmap=\"gray\")"
      ],
      "metadata": {
        "id": "00ltOtL-SKn2",
        "colab": {
          "base_uri": "https://localhost:8080/",
          "height": 1000
        },
        "outputId": "b68cb8e3-4b5c-4ee7-b6e0-2c78d367ce5e"
      },
      "execution_count": null,
      "outputs": [
        {
          "output_type": "execute_result",
          "data": {
            "text/plain": [
              "Text(0.5, 1.0, 'Original Image')"
            ]
          },
          "metadata": {},
          "execution_count": 34
        },
        {
          "output_type": "execute_result",
          "data": {
            "text/plain": [
              "Text(0.5, 1.0, 'Noisy Image')"
            ]
          },
          "metadata": {},
          "execution_count": 34
        },
        {
          "output_type": "execute_result",
          "data": {
            "text/plain": [
              "Text(0.5, 1.0, 'Cleaned Image')"
            ]
          },
          "metadata": {},
          "execution_count": 34
        },
        {
          "output_type": "execute_result",
          "data": {
            "text/plain": [
              "<matplotlib.image.AxesImage at 0x7f76b41486d0>"
            ]
          },
          "metadata": {},
          "execution_count": 34
        },
        {
          "output_type": "execute_result",
          "data": {
            "text/plain": [
              "<matplotlib.image.AxesImage at 0x7f76b3cfec90>"
            ]
          },
          "metadata": {},
          "execution_count": 34
        },
        {
          "output_type": "execute_result",
          "data": {
            "text/plain": [
              "<matplotlib.image.AxesImage at 0x7f76b3cb5910>"
            ]
          },
          "metadata": {},
          "execution_count": 34
        },
        {
          "output_type": "execute_result",
          "data": {
            "text/plain": [
              "<matplotlib.image.AxesImage at 0x7f76b3cb5390>"
            ]
          },
          "metadata": {},
          "execution_count": 34
        },
        {
          "output_type": "execute_result",
          "data": {
            "text/plain": [
              "<matplotlib.image.AxesImage at 0x7f76b3cb51d0>"
            ]
          },
          "metadata": {},
          "execution_count": 34
        },
        {
          "output_type": "execute_result",
          "data": {
            "text/plain": [
              "<matplotlib.image.AxesImage at 0x7f76b3cb5990>"
            ]
          },
          "metadata": {},
          "execution_count": 34
        },
        {
          "output_type": "execute_result",
          "data": {
            "text/plain": [
              "<matplotlib.image.AxesImage at 0x7f76ba182510>"
            ]
          },
          "metadata": {},
          "execution_count": 34
        },
        {
          "output_type": "execute_result",
          "data": {
            "text/plain": [
              "<matplotlib.image.AxesImage at 0x7f76b3cb5cd0>"
            ]
          },
          "metadata": {},
          "execution_count": 34
        },
        {
          "output_type": "execute_result",
          "data": {
            "text/plain": [
              "<matplotlib.image.AxesImage at 0x7f76b3ccc690>"
            ]
          },
          "metadata": {},
          "execution_count": 34
        },
        {
          "output_type": "execute_result",
          "data": {
            "text/plain": [
              "<matplotlib.image.AxesImage at 0x7f76b3ccce10>"
            ]
          },
          "metadata": {},
          "execution_count": 34
        },
        {
          "output_type": "execute_result",
          "data": {
            "text/plain": [
              "<matplotlib.image.AxesImage at 0x7f76b3cb58d0>"
            ]
          },
          "metadata": {},
          "execution_count": 34
        },
        {
          "output_type": "execute_result",
          "data": {
            "text/plain": [
              "<matplotlib.image.AxesImage at 0x7f76b4148710>"
            ]
          },
          "metadata": {},
          "execution_count": 34
        },
        {
          "output_type": "execute_result",
          "data": {
            "text/plain": [
              "<matplotlib.image.AxesImage at 0x7f76b3cb54d0>"
            ]
          },
          "metadata": {},
          "execution_count": 34
        },
        {
          "output_type": "execute_result",
          "data": {
            "text/plain": [
              "<matplotlib.image.AxesImage at 0x7f76b3c51f50>"
            ]
          },
          "metadata": {},
          "execution_count": 34
        },
        {
          "output_type": "execute_result",
          "data": {
            "text/plain": [
              "<matplotlib.image.AxesImage at 0x7f76b3cccd50>"
            ]
          },
          "metadata": {},
          "execution_count": 34
        },
        {
          "output_type": "execute_result",
          "data": {
            "text/plain": [
              "<matplotlib.image.AxesImage at 0x7f76b3c51bd0>"
            ]
          },
          "metadata": {},
          "execution_count": 34
        },
        {
          "output_type": "execute_result",
          "data": {
            "text/plain": [
              "<matplotlib.image.AxesImage at 0x7f76b3c51fd0>"
            ]
          },
          "metadata": {},
          "execution_count": 34
        },
        {
          "output_type": "execute_result",
          "data": {
            "text/plain": [
              "<matplotlib.image.AxesImage at 0x7f76b3c60690>"
            ]
          },
          "metadata": {},
          "execution_count": 34
        },
        {
          "output_type": "display_data",
          "data": {
            "text/plain": [
              "<Figure size 1440x1440 with 18 Axes>"
            ],
            "image/png": "[encoded data removed]"
          },
          "metadata": {
            "needs_background": "light"
          }
        }
      ]
    },
    {
      "cell_type": "code",
      "source": [
        ""
      ],
      "metadata": {
        "id": "y-kg1sXnSKqb"
      },
      "execution_count": null,
      "outputs": []
    },
    {
      "cell_type": "code",
      "source": [
        ""
      ],
      "metadata": {
        "id": "zPv1xPT1SKvB"
      },
      "execution_count": null,
      "outputs": []
    },
    {
      "cell_type": "code",
      "source": [
        ""
      ],
      "metadata": {
        "id": "AxGmab0xSKxd"
      },
      "execution_count": null,
      "outputs": []
    }
  ]
}